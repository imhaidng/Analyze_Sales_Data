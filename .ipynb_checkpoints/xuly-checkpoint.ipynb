{
 "cells": [
  {
   "cell_type": "code",
   "execution_count": null,
   "id": "5de14c6a-e4e1-45ea-9c90-20696dd97a3d",
   "metadata": {},
   "outputs": [],
   "source": [
    "#import thu vien \n",
    "import pandas as pd\n",
    "import os\n",
    "import matplotlib.pyplot as plt"
   ]
  },
  {
   "cell_type": "code",
   "execution_count": null,
   "id": "d2bb8d7e-0b4a-4287-99b9-7ec36cbf5f76",
   "metadata": {},
   "outputs": [],
   "source": [
    "#doc tap tin va luu vao DF\n",
    "path = '/Users/Admin/OneDrive/Documents/Data_Project/prj4/data/'\n",
    "filename = input(\"nhập tên file: \")\n",
    "df = pd.read_csv(path+filename )\n",
    "df"
   ]
  },
  {
   "cell_type": "code",
   "execution_count": null,
   "id": "1644098a-3393-48ba-a6dc-354b1a107a6a",
   "metadata": {},
   "outputs": [],
   "source": [
    "#ghep 12file vao de xu ly va luu vao file moi sales2019.csv\n",
    "filepaths = []\n",
    "frames = []\n",
    "for file in os.listdir(path):\n",
    "    if file.endswith('.csv'):\n",
    "        filepath = path+ file\n",
    "        df1 = pd.read_csv(filepath)\n",
    "        frames.append(df1)\n",
    "        result = pd.concat(frames)\n",
    "df = result\n",
    "df.to_csv(\"sales2019.csv\",index = False)"
   ]
  },
  {
   "cell_type": "code",
   "execution_count": null,
   "id": "59e58854-9eb2-410a-9bf7-4a3502fb98ba",
   "metadata": {},
   "outputs": [],
   "source": [
    "df.head()"
   ]
  },
  {
   "cell_type": "markdown",
   "id": "0170f77c-11e5-4b02-86e0-531a1c27c730",
   "metadata": {},
   "source": [
    "# ques1:\n",
    "<h3>tim thang nao sales duoc nhieu nhat</h3> \n",
    "<h3>doanh thu thang do la bao nhieu</h3> "
   ]
  },
  {
   "cell_type": "code",
   "execution_count": null,
   "id": "2a468def-e43a-48df-afcc-98489e36ad05",
   "metadata": {},
   "outputs": [],
   "source": [
    "#vi du lieu khong co cot thang, nen ta se xu ly bang cach tach thang tu cot order date, tao va them cot month\n",
    "df['Month']=df['Order Date'].str.slice(0,2)\n",
    "df.head()"
   ]
  },
  {
   "cell_type": "code",
   "execution_count": null,
   "id": "46a337b7-2a62-42c2-ab01-55a94a15a70f",
   "metadata": {},
   "outputs": [],
   "source": [
    "print(set(df['Month']))\n",
    "#ngoai 12 thang thi du lieu con co Or va nan"
   ]
  },
  {
   "cell_type": "code",
   "execution_count": null,
   "id": "65128100-6446-43b1-a940-a5539ec6a1a9",
   "metadata": {},
   "outputs": [],
   "source": [
    "#loai bo cac dong chua nan\n",
    "df = df.dropna(how='all')\n",
    "df"
   ]
  },
  {
   "cell_type": "code",
   "execution_count": null,
   "id": "e5803fe5-c121-4949-bbe2-b57622270c1e",
   "metadata": {},
   "outputs": [],
   "source": [
    "df = df[df['Month'] != 'Or']\n",
    "df"
   ]
  },
  {
   "cell_type": "code",
   "execution_count": null,
   "id": "20c358d8-c23b-4593-be2c-a01ae7693827",
   "metadata": {},
   "outputs": [],
   "source": [
    "#convert du lieu 2 cot quantity ordered va price each sang kieu int\n",
    "df['Quantity Ordered'] = pd.to_numeric(df['Quantity Ordered'], downcast='integer')\n",
    "df['Price Each'] = pd.to_numeric(df['Price Each'], downcast='float')"
   ]
  },
  {
   "cell_type": "code",
   "execution_count": null,
   "id": "ffed42b6-9a8e-43ec-9a97-97d311c2581b",
   "metadata": {},
   "outputs": [],
   "source": [
    "#tao them cot sales de tinh doanh thu ban duoc trong thang\n",
    "df['Sales'] = df['Quantity Ordered'] * df['Price Each']\n",
    "df"
   ]
  },
  {
   "cell_type": "code",
   "execution_count": null,
   "id": "445fe1bf-c031-49f5-bb7f-d56000055295",
   "metadata": {},
   "outputs": [],
   "source": [
    "#tinh tong doanh thu cac thang\n",
    "df.groupby('Month').sum()['Sales']"
   ]
  },
  {
   "cell_type": "code",
   "execution_count": null,
   "id": "f3d2b110-167d-4f4f-8602-8b65d71fc6c9",
   "metadata": {},
   "outputs": [],
   "source": [
    "#tim so doanh thu lon nhat bang ham max()\n",
    "sales_value = df.groupby('Month').sum()['Sales']\n",
    "sales_value.max()\n",
    "#ta nhan thay thang 12 co doanh thu lon nhat"
   ]
  },
  {
   "cell_type": "code",
   "execution_count": null,
   "id": "b56a457d-09a6-4ef1-bb10-c613ba5b83eb",
   "metadata": {},
   "outputs": [],
   "source": [
    "months = range(1,13)\n",
    "plt.bar(x=months,height=sales_value)\n",
    "plt.xticks(months)\n",
    "plt.xlabel('Months')\n",
    "plt.ylabel('USD')\n",
    "plt.show()"
   ]
  },
  {
   "cell_type": "markdown",
   "id": "06ff9b2e-f7d5-4a75-9588-2ae53993675f",
   "metadata": {},
   "source": [
    "# ques2: \n",
    "<h3> \n",
    "    thanh pho nao co doanh so cao nhat\n",
    "</h3>"
   ]
  },
  {
   "cell_type": "code",
   "execution_count": null,
   "id": "cb741f56-9289-4386-8541-2e2f238c1fe4",
   "metadata": {},
   "outputs": [],
   "source": [
    "#tach ten thanh pho tu cot Purchase Address\n",
    "address_to_city=lambda address:address.split(',')[1]\n",
    "df['City'] = df['Purchase Address'].apply(address_to_city)\n",
    "df.head()"
   ]
  },
  {
   "cell_type": "code",
   "execution_count": null,
   "id": "bfb687cf-047b-4533-bd73-1bd236d2e472",
   "metadata": {},
   "outputs": [],
   "source": [
    "#tim thanh pho nao co doanh thu cao nhat\n",
    "df.groupby('City').sum()['Sales']"
   ]
  },
  {
   "cell_type": "code",
   "execution_count": null,
   "id": "15b9c6a9-5908-4aa9-a712-aa783e82afee",
   "metadata": {},
   "outputs": [],
   "source": [
    "sales_value_city = df.groupby('City').sum()['Sales']\n",
    "sales_value_city.max()\n",
    "#co the thay San Francisco la thanh pho co doanh thu cao nhat"
   ]
  },
  {
   "cell_type": "code",
   "execution_count": null,
   "id": "ded43dea-ae24-47db-aa7c-983424635373",
   "metadata": {},
   "outputs": [],
   "source": [
    "# cities = []\n",
    "# for city,sales in sales_value_city.items():\n",
    "#     cities.append(city)\n",
    "# print(cities)\n",
    "cities = [city for city,sales in sales_value_city.items()]\n",
    "\n",
    "print(cities)"
   ]
  },
  {
   "cell_type": "code",
   "execution_count": null,
   "id": "7bf80cf7-f371-4b0d-bf6e-6f587c78db9e",
   "metadata": {},
   "outputs": [],
   "source": [
    "plt.bar(x=cities, height=sales_value_city)\n",
    "plt.xticks(cities, rotation=45, size=7)\n",
    "plt.xlabel('Cities')\n",
    "plt.ylabel('USD')\n",
    "plt.show()"
   ]
  },
  {
   "cell_type": "markdown",
   "id": "e675e843-2228-4650-8a91-5fe028e49eb3",
   "metadata": {},
   "source": [
    "# ques3: \n",
    "<h3>doanh nghiep can quang cao vao khoang thoi gian nao de co kha nang tang doanh thu ban hang (nhieu nguoi mua) </h3>"
   ]
  },
  {
   "cell_type": "code",
   "execution_count": null,
   "id": "8fe4d74a-0a59-46ee-86f3-a27b35101190",
   "metadata": {},
   "outputs": [],
   "source": [
    "df['Order Date'].dtypes"
   ]
  },
  {
   "cell_type": "code",
   "execution_count": null,
   "id": "e7a31e4b-1f2a-4923-adf3-2527b18cb497",
   "metadata": {},
   "outputs": [],
   "source": [
    "df['Order Date'] = pd.to_datetime(df['Order Date'])"
   ]
  },
  {
   "cell_type": "code",
   "execution_count": null,
   "id": "71ade30b-f26d-4bb9-9f06-dae477a0c610",
   "metadata": {},
   "outputs": [],
   "source": [
    "#lay thong tin so gio ma co doanh thu cao nhat va gan gia tri do cho cot moi la Hour\n",
    "df['Hours'] = df['Order Date'].dt.hour\n",
    "df"
   ]
  },
  {
   "cell_type": "code",
   "execution_count": null,
   "id": "28b889e4-99f5-4290-a61f-aad8c9d9e105",
   "metadata": {},
   "outputs": [],
   "source": [
    "sales_value_hours = df.groupby('Hours').count()['Sales']"
   ]
  },
  {
   "cell_type": "code",
   "execution_count": null,
   "id": "68427401-b11a-4345-a45e-965484b134ed",
   "metadata": {},
   "outputs": [],
   "source": [
    "hours = [hour for hour, sales in sales_value_hours.items()]"
   ]
  },
  {
   "cell_type": "code",
   "execution_count": null,
   "id": "c3ee40c0-1bdb-440f-b007-e0feda67e08e",
   "metadata": {},
   "outputs": [],
   "source": [
    "plt.bar(x=hours,height=sales_value_hours)\n",
    "plt.grid()\n",
    "plt.xticks(hours, rotation=90, size=8)\n",
    "plt.xlabel('Hours')\n",
    "plt.ylabel('USD')\n",
    "plt.show()"
   ]
  },
  {
   "cell_type": "code",
   "execution_count": null,
   "id": "685bd0bc-dd6b-4d18-83c1-75ce942d6dd2",
   "metadata": {},
   "outputs": [],
   "source": [
    "# plt.bar(x=hours,height=sales_value_hours)\n",
    "plt.plot(hours, sales_value_hours)\n",
    "plt.grid()\n",
    "plt.xticks(hours, rotation=90, size=8)\n",
    "plt.xlabel('Hours')\n",
    "plt.ylabel('USD')\n",
    "plt.show()"
   ]
  },
  {
   "cell_type": "code",
   "execution_count": null,
   "id": "7413f689-fc41-4eb2-9ad9-cc53a53553bc",
   "metadata": {},
   "outputs": [],
   "source": [
    "#theo nhu bieu do thi do doanh thu vao luc 11-12h va 18-19h la cao nhat"
   ]
  },
  {
   "cell_type": "markdown",
   "id": "909462c2-3543-46c7-988a-e70e6f0ae76b",
   "metadata": {},
   "source": [
    "# ques4:\n",
    "<h3>nhung san pham nao thuong duoc ban cung nhau</h3>"
   ]
  },
  {
   "cell_type": "code",
   "execution_count": null,
   "id": "af08fc10-29cc-4995-ba20-169e684df975",
   "metadata": {},
   "outputs": [],
   "source": [
    "#co the nhan biet duoc la nhung san pham co cung thoi gian va dia chi giao hang la san pham mua cung nhau, hoac co cung order id\n",
    "df_dup = df[df['Order ID'].duplicated(keep=False)]\n",
    "groupProduct = lambda product: ', '.join(product)\n",
    "df_dup['All Products'] = df_dup.groupby('Order ID')['Product'].transform(groupProduct)\n",
    "df_dup = df_dup[['Order ID', 'All Products']].drop_duplicates()\n",
    "df_dup['All Products'].value_counts().head(10)"
   ]
  },
  {
   "cell_type": "code",
   "execution_count": null,
   "id": "96264beb-3a0e-4f4f-a6d4-16e4b0c3ce17",
   "metadata": {},
   "outputs": [],
   "source": [
    "'''dua vao thong tin tren doanh nghiep co the dua ra nhung chuong trinh uu dai khi mua combo\n",
    "hoac kem theo cung voi san pham it ban chay hon de keo chi so doanh thu cua san pham it duoc mua nham phat trien doanh so\n",
    "kich cau tieu dung,tang do pho bien cua san pham'''"
   ]
  }
 ],
 "metadata": {
  "kernelspec": {
   "display_name": "Python 3 (ipykernel)",
   "language": "python",
   "name": "python3"
  },
  "language_info": {
   "codemirror_mode": {
    "name": "ipython",
    "version": 3
   },
   "file_extension": ".py",
   "mimetype": "text/x-python",
   "name": "python",
   "nbconvert_exporter": "python",
   "pygments_lexer": "ipython3",
   "version": "3.11.4"
  }
 },
 "nbformat": 4,
 "nbformat_minor": 5
}
